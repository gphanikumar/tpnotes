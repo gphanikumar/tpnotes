{
 "cells": [
  {
   "cell_type": "markdown",
   "id": "449b1a58",
   "metadata": {},
   "source": [
    "The source of this notebook is at https://github.com/gphanikumar/tpnotes\n",
    "\n",
    "# Characteristic polynomial\n",
    "\n",
    "In this notebook, we check what the coefficients of a characteristic polynomial are. We are usually concerned about stress as the tensor of second order for the use of characteristic equation. Stress is a symmetric tensor. So we consider a symmetric matrix for the illustration."
   ]
  },
  {
   "cell_type": "code",
   "execution_count": 1,
   "id": "a62d6773",
   "metadata": {},
   "outputs": [],
   "source": [
    "%display latex"
   ]
  },
  {
   "cell_type": "code",
   "execution_count": 2,
   "id": "a8855a47",
   "metadata": {},
   "outputs": [],
   "source": [
    "var('a11, a22, a33, a12, a13, a23')\n",
    "A = matrix([[a11, a12, a13], [a12, a22, a23], [a13, a23, a33]])"
   ]
  },
  {
   "cell_type": "code",
   "execution_count": 3,
   "id": "defe9577",
   "metadata": {},
   "outputs": [
    {
     "data": {
      "text/html": [
       "<html>\\(\\displaystyle \\left(\\begin{array}{rrr}\n",
       "a_{11} & a_{12} & a_{13} \\\\\n",
       "a_{12} & a_{22} & a_{23} \\\\\n",
       "a_{13} & a_{23} & a_{33}\n",
       "\\end{array}\\right)\\)</html>"
      ],
      "text/latex": [
       "$\\displaystyle \\left(\\begin{array}{rrr}\n",
       "a_{11} & a_{12} & a_{13} \\\\\n",
       "a_{12} & a_{22} & a_{23} \\\\\n",
       "a_{13} & a_{23} & a_{33}\n",
       "\\end{array}\\right)$"
      ],
      "text/plain": [
       "[a11 a12 a13]\n",
       "[a12 a22 a23]\n",
       "[a13 a23 a33]"
      ]
     },
     "execution_count": 3,
     "metadata": {},
     "output_type": "execute_result"
    }
   ],
   "source": [
    "A"
   ]
  },
  {
   "cell_type": "markdown",
   "id": "7f3ef37c",
   "metadata": {},
   "source": [
    "Characteristic polynomial is defined as the determinant of the matrix A-xI where I is the identity matrix."
   ]
  },
  {
   "cell_type": "code",
   "execution_count": 4,
   "id": "685580a4",
   "metadata": {},
   "outputs": [
    {
     "data": {
      "text/html": [
       "<html>\\(\\displaystyle \\left(\\begin{array}{rrr}\n",
       "1 & 0 & 0 \\\\\n",
       "0 & 1 & 0 \\\\\n",
       "0 & 0 & 1\n",
       "\\end{array}\\right)\\)</html>"
      ],
      "text/latex": [
       "$\\displaystyle \\left(\\begin{array}{rrr}\n",
       "1 & 0 & 0 \\\\\n",
       "0 & 1 & 0 \\\\\n",
       "0 & 0 & 1\n",
       "\\end{array}\\right)$"
      ],
      "text/plain": [
       "[1 0 0]\n",
       "[0 1 0]\n",
       "[0 0 1]"
      ]
     },
     "execution_count": 4,
     "metadata": {},
     "output_type": "execute_result"
    }
   ],
   "source": [
    "IM = identity_matrix(3)\n",
    "IM"
   ]
  },
  {
   "cell_type": "code",
   "execution_count": 5,
   "id": "5da99c39",
   "metadata": {},
   "outputs": [
    {
     "data": {
      "text/html": [
       "<html>\\(\\displaystyle \\left(\\begin{array}{rrr}\n",
       "a_{11} - x & a_{12} & a_{13} \\\\\n",
       "a_{12} & a_{22} - x & a_{23} \\\\\n",
       "a_{13} & a_{23} & a_{33} - x\n",
       "\\end{array}\\right)\\)</html>"
      ],
      "text/latex": [
       "$\\displaystyle \\left(\\begin{array}{rrr}\n",
       "a_{11} - x & a_{12} & a_{13} \\\\\n",
       "a_{12} & a_{22} - x & a_{23} \\\\\n",
       "a_{13} & a_{23} & a_{33} - x\n",
       "\\end{array}\\right)$"
      ],
      "text/plain": [
       "[a11 - x     a12     a13]\n",
       "[    a12 a22 - x     a23]\n",
       "[    a13     a23 a33 - x]"
      ]
     },
     "execution_count": 5,
     "metadata": {},
     "output_type": "execute_result"
    }
   ],
   "source": [
    "B = A - x*IM\n",
    "B"
   ]
  },
  {
   "cell_type": "code",
   "execution_count": 6,
   "id": "c2d7cec7",
   "metadata": {},
   "outputs": [
    {
     "data": {
      "text/html": [
       "<html>\\(\\displaystyle -a_{13}^{2} a_{22} + 2 \\, a_{12} a_{13} a_{23} - a_{11} a_{23}^{2} - a_{12}^{2} a_{33} + a_{11} a_{22} a_{33} + a_{12}^{2} x + a_{13}^{2} x - a_{11} a_{22} x + a_{23}^{2} x - a_{11} a_{33} x - a_{22} a_{33} x + a_{11} x^{2} + a_{22} x^{2} + a_{33} x^{2} - x^{3}\\)</html>"
      ],
      "text/latex": [
       "$\\displaystyle -a_{13}^{2} a_{22} + 2 \\, a_{12} a_{13} a_{23} - a_{11} a_{23}^{2} - a_{12}^{2} a_{33} + a_{11} a_{22} a_{33} + a_{12}^{2} x + a_{13}^{2} x - a_{11} a_{22} x + a_{23}^{2} x - a_{11} a_{33} x - a_{22} a_{33} x + a_{11} x^{2} + a_{22} x^{2} + a_{33} x^{2} - x^{3}$"
      ],
      "text/plain": [
       "-a13^2*a22 + 2*a12*a13*a23 - a11*a23^2 - a12^2*a33 + a11*a22*a33 + a12^2*x + a13^2*x - a11*a22*x + a23^2*x - a11*a33*x - a22*a33*x + a11*x^2 + a22*x^2 + a33*x^2 - x^3"
      ]
     },
     "execution_count": 6,
     "metadata": {},
     "output_type": "execute_result"
    }
   ],
   "source": [
    "B.det().expand()"
   ]
  },
  {
   "cell_type": "markdown",
   "id": "d87fd8e3",
   "metadata": {},
   "source": [
    "The cubic polynomial can also be obtained directly with the coefficients neatly collected."
   ]
  },
  {
   "cell_type": "code",
   "execution_count": 7,
   "id": "7c59a3a7",
   "metadata": {},
   "outputs": [
    {
     "data": {
      "text/html": [
       "<html>\\(\\displaystyle x^{3} + \\left(-a_{11} - a_{22} - a_{33}\\right) x^{2} + \\left(-a_{12}^{2} - a_{13}^{2} + a_{11} a_{22} - a_{23}^{2} + a_{11} a_{33} + a_{22} a_{33}\\right) x + a_{13}^{2} a_{22} - 2 \\, a_{12} a_{13} a_{23} + a_{11} a_{23}^{2} + a_{12}^{2} a_{33} - a_{11} a_{22} a_{33}\\)</html>"
      ],
      "text/latex": [
       "$\\displaystyle x^{3} + \\left(-a_{11} - a_{22} - a_{33}\\right) x^{2} + \\left(-a_{12}^{2} - a_{13}^{2} + a_{11} a_{22} - a_{23}^{2} + a_{11} a_{33} + a_{22} a_{33}\\right) x + a_{13}^{2} a_{22} - 2 \\, a_{12} a_{13} a_{23} + a_{11} a_{23}^{2} + a_{12}^{2} a_{33} - a_{11} a_{22} a_{33}$"
      ],
      "text/plain": [
       "x^3 + (-a11 - a22 - a33)*x^2 + (-a12^2 - a13^2 + a11*a22 - a23^2 + a11*a33 + a22*a33)*x + a13^2*a22 - 2*a12*a13*a23 + a11*a23^2 + a12^2*a33 - a11*a22*a33"
      ]
     },
     "execution_count": 7,
     "metadata": {},
     "output_type": "execute_result"
    }
   ],
   "source": [
    "A.charpoly()"
   ]
  },
  {
   "cell_type": "markdown",
   "id": "e80b7e90",
   "metadata": {},
   "source": [
    "In the cubic polynomial given above, let us check if the coefficients are any invariant quantities defined for the quantity A."
   ]
  },
  {
   "cell_type": "markdown",
   "id": "c777c271",
   "metadata": {},
   "source": [
    "## Square term"
   ]
  },
  {
   "cell_type": "code",
   "execution_count": 8,
   "id": "2176a388",
   "metadata": {},
   "outputs": [
    {
     "data": {
      "text/html": [
       "<html>\\(\\displaystyle a_{11} + a_{22} + a_{33}\\)</html>"
      ],
      "text/latex": [
       "$\\displaystyle a_{11} + a_{22} + a_{33}$"
      ],
      "text/plain": [
       "a11 + a22 + a33"
      ]
     },
     "execution_count": 8,
     "metadata": {},
     "output_type": "execute_result"
    }
   ],
   "source": [
    "C2=A.trace()\n",
    "C2"
   ]
  },
  {
   "cell_type": "markdown",
   "id": "99a0e013",
   "metadata": {},
   "source": [
    "Thus, the coefficient of the square term is -Trace(A)\n",
    "\n",
    "$ C_2 = -Trace(A) $"
   ]
  },
  {
   "cell_type": "markdown",
   "id": "074013ca",
   "metadata": {},
   "source": [
    "## Constant term"
   ]
  },
  {
   "cell_type": "code",
   "execution_count": 9,
   "id": "0b8a7ab7",
   "metadata": {},
   "outputs": [
    {
     "data": {
      "text/html": [
       "<html>\\(\\displaystyle -a_{13}^{2} a_{22} + 2 \\, a_{12} a_{13} a_{23} - a_{11} a_{23}^{2} - a_{12}^{2} a_{33} + a_{11} a_{22} a_{33}\\)</html>"
      ],
      "text/latex": [
       "$\\displaystyle -a_{13}^{2} a_{22} + 2 \\, a_{12} a_{13} a_{23} - a_{11} a_{23}^{2} - a_{12}^{2} a_{33} + a_{11} a_{22} a_{33}$"
      ],
      "text/plain": [
       "-a13^2*a22 + 2*a12*a13*a23 - a11*a23^2 - a12^2*a33 + a11*a22*a33"
      ]
     },
     "execution_count": 9,
     "metadata": {},
     "output_type": "execute_result"
    }
   ],
   "source": [
    "C0=A.det()\n",
    "C0"
   ]
  },
  {
   "cell_type": "markdown",
   "id": "42eba42f",
   "metadata": {},
   "source": [
    "This means the constant term in the polynomial is -Det(A)\n",
    "\n",
    "$ C_0 = -Det(A) $"
   ]
  },
  {
   "cell_type": "markdown",
   "id": "512b834b",
   "metadata": {},
   "source": [
    "## Linear  term"
   ]
  },
  {
   "cell_type": "code",
   "execution_count": 10,
   "id": "8c6ba4c8",
   "metadata": {},
   "outputs": [
    {
     "data": {
      "text/html": [
       "<html>\\(\\displaystyle -a_{12}^{2} - a_{13}^{2} + a_{11} a_{22} - a_{23}^{2} + a_{11} a_{33} + a_{22} a_{33}\\)</html>"
      ],
      "text/latex": [
       "$\\displaystyle -a_{12}^{2} - a_{13}^{2} + a_{11} a_{22} - a_{23}^{2} + a_{11} a_{33} + a_{22} a_{33}$"
      ],
      "text/plain": [
       "-a12^2 - a13^2 + a11*a22 - a23^2 + a11*a33 + a22*a33"
      ]
     },
     "execution_count": 10,
     "metadata": {},
     "output_type": "execute_result"
    }
   ],
   "source": [
    "C1=(A.trace()*A.trace()-(A*A.transpose()).trace())/2\n",
    "C1.expand()"
   ]
  },
  {
   "cell_type": "markdown",
   "id": "821887f6",
   "metadata": {},
   "source": [
    "This means the coefficient of the linear term is the following:\n",
    "\n",
    "$ C_1 = {1 \\over 2} \\left[ \\left( Trace(A) \\right)^2 - Trace(A^2) \\right] $\n"
   ]
  },
  {
   "cell_type": "markdown",
   "id": "ec9a1df7",
   "metadata": {},
   "source": [
    "## Characteristic equation"
   ]
  },
  {
   "cell_type": "markdown",
   "id": "2f960b07",
   "metadata": {},
   "source": [
    "Thus, the characteristic equation is written as \n",
    "\n",
    "$ x^3 + C_2 x^2 + C_1 x + C_0 = 0 $"
   ]
  },
  {
   "cell_type": "markdown",
   "id": "c066d883-cd18-439e-abf7-276ef2fef24f",
   "metadata": {},
   "source": [
    "One can prove, using Tensor theorems, that each of these coefficients is a scalar invariant."
   ]
  },
  {
   "cell_type": "code",
   "execution_count": null,
   "id": "351c7289-0ef0-4b16-8750-7345735fd524",
   "metadata": {},
   "outputs": [],
   "source": []
  }
 ],
 "metadata": {
  "kernelspec": {
   "display_name": "SageMath 10.4",
   "language": "sage",
   "name": "sagemath"
  },
  "language_info": {
   "codemirror_mode": {
    "name": "ipython",
    "version": 3
   },
   "file_extension": ".py",
   "mimetype": "text/x-python",
   "name": "python",
   "nbconvert_exporter": "python",
   "pygments_lexer": "ipython3",
   "version": "3.10.14"
  }
 },
 "nbformat": 4,
 "nbformat_minor": 5
}

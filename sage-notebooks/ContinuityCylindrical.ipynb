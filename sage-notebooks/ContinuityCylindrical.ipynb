{
 "cells": [
  {
   "cell_type": "markdown",
   "metadata": {},
   "source": [
    "The source of this notebook is available at https://github.com/gphanikumar/tpnotes\n",
    "\n",
    "# Continuity equation in cylindrical coordinates\n",
    "\n",
    "In this notebook, we determine the divergence of velocity field in cylindrical coordinate system using the manifolds module in sagemath."
   ]
  },
  {
   "cell_type": "code",
   "execution_count": 1,
   "metadata": {},
   "outputs": [],
   "source": [
    "E.<r,theta,z> = EuclideanSpace(coordinates='cylindrical')"
   ]
  },
  {
   "cell_type": "code",
   "execution_count": 2,
   "metadata": {},
   "outputs": [],
   "source": [
    "%display latex"
   ]
  },
  {
   "cell_type": "code",
   "execution_count": 3,
   "metadata": {},
   "outputs": [
    {
     "data": {
      "text/html": [
       "<html>\\(\\displaystyle u = u_{r}\\left(r, \\theta, z\\right) e_{ r } + u_{\\theta}\\left(r, \\theta, z\\right) e_{ \\theta } + u_{z}\\left(r, \\theta, z\\right) e_{ z }\\)</html>"
      ],
      "text/latex": [
       "$\\displaystyle u = u_{r}\\left(r, \\theta, z\\right) e_{ r } + u_{\\theta}\\left(r, \\theta, z\\right) e_{ \\theta } + u_{z}\\left(r, \\theta, z\\right) e_{ z }$"
      ],
      "text/plain": [
       "u = u_r(r, theta, z) e_r + u_theta(r, theta, z) e_theta + u_z(r, theta, z) e_z"
      ]
     },
     "execution_count": 3,
     "metadata": {},
     "output_type": "execute_result"
    }
   ],
   "source": [
    "u = E.vector_field(function('u_r')(r,theta,z),\n",
    "                   function('u_theta')(r,theta,z),\n",
    "                   function('u_z')(r,theta,z),\n",
    "                   name='u')\n",
    "u.display()"
   ]
  },
  {
   "cell_type": "code",
   "execution_count": 4,
   "metadata": {},
   "outputs": [],
   "source": [
    "from sage.manifolds.operators import div"
   ]
  },
  {
   "cell_type": "code",
   "execution_count": 5,
   "metadata": {},
   "outputs": [
    {
     "data": {
      "text/html": [
       "<html>\\(\\displaystyle \\begin{array}{llcl} \\mathrm{div}\\left(u\\right):& \\mathbb{E}^{3} & \\longrightarrow & \\mathbb{R} \\\\ & \\left(r, \\theta, z\\right) & \\longmapsto & \\frac{r \\frac{\\partial\\,u_{r}}{\\partial r} + r \\frac{\\partial\\,u_{z}}{\\partial z} + u_{r}\\left(r, \\theta, z\\right) + \\frac{\\partial\\,u_{\\theta}}{\\partial \\theta}}{r} \\end{array}\\)</html>"
      ],
      "text/latex": [
       "$\\displaystyle \\begin{array}{llcl} \\mathrm{div}\\left(u\\right):& \\mathbb{E}^{3} & \\longrightarrow & \\mathbb{R} \\\\ & \\left(r, \\theta, z\\right) & \\longmapsto & \\frac{r \\frac{\\partial\\,u_{r}}{\\partial r} + r \\frac{\\partial\\,u_{z}}{\\partial z} + u_{r}\\left(r, \\theta, z\\right) + \\frac{\\partial\\,u_{\\theta}}{\\partial \\theta}}{r} \\end{array}$"
      ],
      "text/plain": [
       "div(u): E^3 → ℝ\n",
       "   (r, theta, z) ↦ (r*d(u_r)/dr + r*d(u_z)/dz + u_r(r, theta, z) + d(u_theta)/dtheta)/r"
      ]
     },
     "execution_count": 5,
     "metadata": {},
     "output_type": "execute_result"
    }
   ],
   "source": [
    "div(u).display()"
   ]
  },
  {
   "cell_type": "code",
   "execution_count": null,
   "metadata": {},
   "outputs": [],
   "source": []
  }
 ],
 "metadata": {
  "kernelspec": {
   "display_name": "SageMath 10.4",
   "language": "sage",
   "name": "sagemath"
  },
  "language_info": {
   "codemirror_mode": {
    "name": "ipython",
    "version": 3
   },
   "file_extension": ".py",
   "mimetype": "text/x-python",
   "name": "python",
   "nbconvert_exporter": "python",
   "pygments_lexer": "ipython3",
   "version": "3.10.14"
  }
 },
 "nbformat": 4,
 "nbformat_minor": 4
}

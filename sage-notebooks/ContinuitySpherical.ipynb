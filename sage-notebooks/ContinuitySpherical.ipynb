{
 "cells": [
  {
   "cell_type": "markdown",
   "metadata": {},
   "source": [
    "The source of this notebook is available at https://github.com/gphanikumar/tpnotes\n",
    "\n",
    "# Continuity equation in spherical coordinates\n",
    "\n",
    "In this notebook, we determine the divergence of velocity field in spherical coordinate system using the manifolds module of sagemath."
   ]
  },
  {
   "cell_type": "code",
   "execution_count": 1,
   "metadata": {},
   "outputs": [],
   "source": [
    "E.<r,th,ph> = EuclideanSpace(coordinates='spherical')"
   ]
  },
  {
   "cell_type": "code",
   "execution_count": 2,
   "metadata": {},
   "outputs": [],
   "source": [
    "%display latex"
   ]
  },
  {
   "cell_type": "code",
   "execution_count": 3,
   "metadata": {},
   "outputs": [
    {
     "data": {
      "text/html": [
       "<html>\\(\\displaystyle u = u_{r}\\left(r, {\\theta}, {\\phi}\\right) e_{ r } + u_{\\theta}\\left(r, {\\theta}, {\\phi}\\right) e_{ {\\theta} } + u_{\\phi}\\left(r, {\\theta}, {\\phi}\\right) e_{ {\\phi} }\\)</html>"
      ],
      "text/latex": [
       "$\\displaystyle u = u_{r}\\left(r, {\\theta}, {\\phi}\\right) e_{ r } + u_{\\theta}\\left(r, {\\theta}, {\\phi}\\right) e_{ {\\theta} } + u_{\\phi}\\left(r, {\\theta}, {\\phi}\\right) e_{ {\\phi} }$"
      ],
      "text/plain": [
       "u = u_r(r, th, ph) e_r + u_theta(r, th, ph) e_th + u_phi(r, th, ph) e_ph"
      ]
     },
     "execution_count": 3,
     "metadata": {},
     "output_type": "execute_result"
    }
   ],
   "source": [
    "u = E.vector_field(function('u_r')(r,th,ph),\n",
    "                   function('u_theta')(r,th,ph),\n",
    "                   function('u_phi')(r,th,ph),\n",
    "                   name='u')\n",
    "u.display()"
   ]
  },
  {
   "cell_type": "code",
   "execution_count": 4,
   "metadata": {},
   "outputs": [],
   "source": [
    "from sage.manifolds.operators import div"
   ]
  },
  {
   "cell_type": "code",
   "execution_count": 5,
   "metadata": {},
   "outputs": [
    {
     "data": {
      "text/html": [
       "<html>\\(\\displaystyle \\begin{array}{llcl} \\mathrm{div}\\left(u\\right):& \\mathbb{E}^{3} & \\longrightarrow & \\mathbb{R} \\\\ & \\left(r, {\\theta}, {\\phi}\\right) & \\longmapsto & \\frac{{\\left(r \\frac{\\partial\\,u_{r}}{\\partial r} + 2 \\, u_{r}\\left(r, {\\theta}, {\\phi}\\right) + \\frac{\\partial\\,u_{\\theta}}{\\partial {\\theta}}\\right)} \\sin\\left({\\theta}\\right) + \\cos\\left({\\theta}\\right) u_{\\theta}\\left(r, {\\theta}, {\\phi}\\right) + \\frac{\\partial\\,u_{\\phi}}{\\partial {\\phi}}}{r \\sin\\left({\\theta}\\right)} \\end{array}\\)</html>"
      ],
      "text/latex": [
       "$\\displaystyle \\begin{array}{llcl} \\mathrm{div}\\left(u\\right):& \\mathbb{E}^{3} & \\longrightarrow & \\mathbb{R} \\\\ & \\left(r, {\\theta}, {\\phi}\\right) & \\longmapsto & \\frac{{\\left(r \\frac{\\partial\\,u_{r}}{\\partial r} + 2 \\, u_{r}\\left(r, {\\theta}, {\\phi}\\right) + \\frac{\\partial\\,u_{\\theta}}{\\partial {\\theta}}\\right)} \\sin\\left({\\theta}\\right) + \\cos\\left({\\theta}\\right) u_{\\theta}\\left(r, {\\theta}, {\\phi}\\right) + \\frac{\\partial\\,u_{\\phi}}{\\partial {\\phi}}}{r \\sin\\left({\\theta}\\right)} \\end{array}$"
      ],
      "text/plain": [
       "div(u): E^3 → ℝ\n",
       "   (r, th, ph) ↦ ((r*d(u_r)/dr + 2*u_r(r, th, ph) + d(u_theta)/dth)*sin(th) + cos(th)*u_theta(r, th, ph) + d(u_phi)/dph)/(r*sin(th))"
      ]
     },
     "execution_count": 5,
     "metadata": {},
     "output_type": "execute_result"
    }
   ],
   "source": [
    "div(u).display()"
   ]
  },
  {
   "cell_type": "code",
   "execution_count": null,
   "metadata": {},
   "outputs": [],
   "source": []
  }
 ],
 "metadata": {
  "kernelspec": {
   "display_name": "SageMath 10.4",
   "language": "sage",
   "name": "sagemath"
  },
  "language_info": {
   "codemirror_mode": {
    "name": "ipython",
    "version": 3
   },
   "file_extension": ".py",
   "mimetype": "text/x-python",
   "name": "python",
   "nbconvert_exporter": "python",
   "pygments_lexer": "ipython3",
   "version": "3.10.14"
  }
 },
 "nbformat": 4,
 "nbformat_minor": 4
}
